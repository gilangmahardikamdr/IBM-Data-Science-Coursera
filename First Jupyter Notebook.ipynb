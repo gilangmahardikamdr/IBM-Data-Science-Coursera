{
 "cells": [
  {
   "cell_type": "markdown",
   "id": "957fd76b-85f9-41ca-8885-21f7cb242a44",
   "metadata": {},
   "source": [
    "# My Jupyter Notebook on IBM Watson Studio"
   ]
  },
  {
   "cell_type": "markdown",
   "id": "b8e76305-bc71-41da-96e7-4396bf56ce02",
   "metadata": {},
   "source": [
    "**Gilang Mahardika**"
   ]
  },
  {
   "cell_type": "markdown",
   "id": "ba666e07-684a-47c7-8b81-936321835c5b",
   "metadata": {},
   "source": [
    "*I am interested in data science because I like data and use data to solve problem and make an impact*"
   ]
  },
  {
   "cell_type": "markdown",
   "id": "223fb423-c06e-4bc1-b919-8a6a7c652881",
   "metadata": {},
   "source": [
    "### In this notebook, this code show basic math operation by using python in JupyterLab"
   ]
  },
  {
   "cell_type": "code",
   "execution_count": 1,
   "id": "76c95226-a992-4a4d-a0c2-9cffdd69d610",
   "metadata": {},
   "outputs": [
    {
     "name": "stdout",
     "output_type": "stream",
     "text": [
      "2\n"
     ]
    }
   ],
   "source": [
    "a = 1 + 1\n",
    "print(a)"
   ]
  },
  {
   "cell_type": "code",
   "execution_count": 2,
   "id": "7374caf9-ea24-4467-9fc5-956e49a933f2",
   "metadata": {},
   "outputs": [
    {
     "name": "stdout",
     "output_type": "stream",
     "text": [
      "0\n"
     ]
    }
   ],
   "source": [
    "b = 1 - 1\n",
    "print(b)"
   ]
  },
  {
   "cell_type": "code",
   "execution_count": 3,
   "id": "0a100fb7-061e-4839-bd7f-71d562524c21",
   "metadata": {},
   "outputs": [
    {
     "name": "stdout",
     "output_type": "stream",
     "text": [
      "1.0\n"
     ]
    }
   ],
   "source": [
    "c = 1 / 1\n",
    "print(c)"
   ]
  },
  {
   "cell_type": "code",
   "execution_count": 4,
   "id": "012476ca-1fe0-4deb-856e-6aeb16dae470",
   "metadata": {},
   "outputs": [
    {
     "name": "stdout",
     "output_type": "stream",
     "text": [
      "1\n"
     ]
    }
   ],
   "source": [
    "d = 1 * 1\n",
    "print(d)"
   ]
  },
  {
   "cell_type": "markdown",
   "id": "a7f34dcf-074e-4b40-a477-178d2e0431b2",
   "metadata": {},
   "source": [
    "***\n",
    "In this notebook, I have done basic math operations, such as:\n",
    "1. Addition\n",
    "2. Subtraction\n",
    "3. Division\n",
    "4. Multiplication\n",
    "\n",
    "Other topic need to be explored further, such as:\n",
    "* Power\n",
    "* Root\n",
    "---"
   ]
  }
 ],
 "metadata": {
  "kernelspec": {
   "display_name": "Python",
   "language": "python",
   "name": "conda-env-python-py"
  },
  "language_info": {
   "codemirror_mode": {
    "name": "ipython",
    "version": 3
   },
   "file_extension": ".py",
   "mimetype": "text/x-python",
   "name": "python",
   "nbconvert_exporter": "python",
   "pygments_lexer": "ipython3",
   "version": "3.7.12"
  }
 },
 "nbformat": 4,
 "nbformat_minor": 5
}
